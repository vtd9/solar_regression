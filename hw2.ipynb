{
 "cells": [
  {
   "cell_type": "markdown",
   "metadata": {},
   "source": [
    "# HW 2\n",
    "\n",
    "Due 3/24/22"
   ]
  },
  {
   "cell_type": "code",
   "execution_count": 1,
   "metadata": {},
   "outputs": [],
   "source": [
    "import pandas as pd\n",
    "import matplotlib.pyplot as plt\n",
    "import torch\n",
    "from torch import nn\n",
    "import torch.utils.data as Data"
   ]
  },
  {
   "cell_type": "markdown",
   "metadata": {},
   "source": [
    "## 1.1 Data preprocessing\n",
    "\n",
    "The CSV file should be in the same directory as this notebook. Otherwise, update the file_name path.\n",
    "\n",
    "References:\n",
    "* https://pytorch.org/tutorials/beginner/basics/data_tutorial.html"
   ]
  },
  {
   "cell_type": "code",
   "execution_count": 2,
   "metadata": {},
   "outputs": [],
   "source": [
    "file_name = './Untitled spreadsheet - Terres_Li_Sample_Data_Set.csv'\n",
    "df = pd.read_csv(file_name)"
   ]
  },
  {
   "cell_type": "code",
   "execution_count": 3,
   "metadata": {},
   "outputs": [
    {
     "name": "stdout",
     "output_type": "stream",
     "text": [
      "18 14 1\n"
     ]
    }
   ],
   "source": [
    "# Independent variables\n",
    "indep_vars = ['Bx', 'By', 'Bz', 'Bmag_avg', 'Ni_avg', 'Vx', 'Vy', 'Vz', 'VSW', \n",
    "'Vth_mag_Ion', 'Vth_para_Ion', 'Vth_perp_Ion', 'Ne', 'Ue', 'Te', 'Ti', 'Ti_para', \n",
    "'Ti_perp']\n",
    "\n",
    "# Derived variables: from independent variables using formulas\n",
    "deriv_vars = ['VA', 'Beta', 'Beta_para', 'Beta_perp', 'Omega_i', 'omega_pi', \n",
    "'omega_pe', 'rho_i', 'rho_s', 'd_i', 'd_e', 'sigma_i', 'Lperp', 'lambda_d']\n",
    "\n",
    "# Dependent variable: target\n",
    "dep_var = ['k_brk']\n",
    "\n",
    "print(len(indep_vars), len(deriv_vars), len(dep_var))"
   ]
  },
  {
   "cell_type": "code",
   "execution_count": 104,
   "metadata": {},
   "outputs": [],
   "source": [
    "# Convert Pandas dataframes to PyTorch tensors\n",
    "indep = torch.tensor(df[indep_vars].values)\n",
    "deriv = torch.tensor(df[deriv_vars].values)\n",
    "dep = torch.tensor(df[dep_var].values)\n",
    "\n",
    "# Normalize the input data along each variable\n",
    "indep = torch.nn.functional.normalize(indep, dim=0)\n",
    "deriv = torch.nn.functional.normalize(deriv, dim=0)\n",
    "\n",
    "indep_dep = Data.TensorDataset(indep, dep)"
   ]
  },
  {
   "cell_type": "code",
   "execution_count": 117,
   "metadata": {},
   "outputs": [
    {
     "data": {
      "text/plain": [
       "tensor(4.8942e-06, dtype=torch.float64)"
      ]
     },
     "execution_count": 117,
     "metadata": {},
     "output_type": "execute_result"
    }
   ],
   "source": [
    "dep.mean()"
   ]
  },
  {
   "cell_type": "code",
   "execution_count": 106,
   "metadata": {},
   "outputs": [
    {
     "name": "stdout",
     "output_type": "stream",
     "text": [
      "Training, validation, testing: [4923, 1055, 1055]\n"
     ]
    }
   ],
   "source": [
    "# Decide on training, validation, and testing splits\n",
    "train_size = int(0.70 * len(df))\n",
    "valid_size = int(0.15 * len(df)) + 1\n",
    "test_size = len(df) - (train_size + valid_size)\n",
    "splits = [train_size, valid_size, test_size]\n",
    "\n",
    "print('Training, validation, testing:', splits)\n",
    "\n",
    "# Split the data\n",
    "train_set, valid_set, test_set = Data.random_split(indep_dep, splits)"
   ]
  },
  {
   "cell_type": "code",
   "execution_count": 107,
   "metadata": {},
   "outputs": [],
   "source": [
    "# Define dataloaders\n",
    "batch_size = 64\n",
    "train_loader = Data.DataLoader(\n",
    "    dataset=train_set, batch_size=batch_size, shuffle=True, num_workers=2\n",
    ")\n",
    "valid_loader = Data.DataLoader(\n",
    "    dataset=valid_set, batch_size=batch_size, shuffle=True, num_workers=2\n",
    ")\n",
    "test_loader = Data.DataLoader(\n",
    "    dataset=test_set, batch_size=batch_size, shuffle=True, num_workers=2\n",
    ")"
   ]
  },
  {
   "cell_type": "markdown",
   "metadata": {},
   "source": [
    "## 1.2 Model definition\n",
    "\n",
    "References:\n",
    "* https://pytorch.org/tutorials/beginner/basics/buildmodel_tutorial.html\n",
    "* https://pytorch.org/tutorials/beginner/basics/optimization_tutorial.html"
   ]
  },
  {
   "cell_type": "code",
   "execution_count": 129,
   "metadata": {},
   "outputs": [],
   "source": [
    "class Net1(nn.Module): \n",
    "    def __init__(self, num_features, num_hidden, num_output):\n",
    "        super(Net1, self).__init__()\n",
    "        self.stack = nn.Sequential(\n",
    "            nn.Linear(num_features, num_hidden),\n",
    "            nn.ReLU(),\n",
    "            nn.Linear(num_hidden, num_output)\n",
    "        )\n",
    "    def forward(self, x):\n",
    "        logits = self.stack(x)\n",
    "        return logits\n",
    "\n",
    "class Net2(nn.Module): \n",
    "    def __init__(self, num_features, num_hiddens, num_output):\n",
    "        super(Net2, self).__init__()\n",
    "        self.stack = nn.Sequential(\n",
    "            nn.Linear(num_features, num_hiddens[0]),\n",
    "            nn.ReLU(),\n",
    "            nn.Linear(num_features, num_hiddens[1]),\n",
    "            nn.ReLU(),\n",
    "            nn.Linear(num_hiddens[1], num_output)\n",
    "        )\n",
    "    def forward(self, x):\n",
    "        logits = self.stack(x)\n",
    "        return logits\n"
   ]
  },
  {
   "cell_type": "code",
   "execution_count": null,
   "metadata": {},
   "outputs": [],
   "source": [
    "# Define train & test functions for one epoch\n",
    "def train_loop(loader, model, loss_fun, optimizer):\n",
    "    train_loss = 0.0\n",
    "    for X, y in loader:\n",
    "        prediction = model(X)           # forward pass\n",
    "        loss = loss_fun(prediction, y)  # compute loss\n",
    "        train_loss += loss.item()\n",
    "        optimizer.zero_grad()           # clear gradients for this loop\n",
    "        loss.backward()                 # compute gradients\n",
    "        optimizer.step()                # apply gradients\n",
    "    return train_loss/len(loader)\n",
    "    \n",
    "\n",
    "def test_loop(loader, model, loss_fun):\n",
    "    test_loss = 0.0\n",
    "    with torch.no_grad():\n",
    "        for X, y in loader:\n",
    "            prediction = model(X)\n",
    "            test_loss += loss_fun(prediction, y).item()\n",
    "    return test_loss/len(loader)\n",
    "    "
   ]
  },
  {
   "cell_type": "code",
   "execution_count": 149,
   "metadata": {},
   "outputs": [
    {
     "name": "stdout",
     "output_type": "stream",
     "text": [
      "17\n",
      "1.6099813263237784e-06 1.8251072668427603e-06\n",
      "17\n",
      "1.6138504453689187e-07 1.6409830779303493e-07\n",
      "17\n",
      "9.749436123413298e-08 7.593801690739161e-08\n",
      "17\n",
      "5.057951907038824e-08 5.9292662759514147e-08\n",
      "17\n",
      "5.554590383370939e-08 4.587498616378791e-08\n",
      "17\n",
      "4.600273273182674e-08 3.866575873095302e-08\n",
      "17\n",
      "4.12938531076328e-08 4.200182821441308e-08\n",
      "17\n",
      "2.800408798035257e-08 2.6272254432860266e-08\n",
      "17\n",
      "2.9505238014292574e-08 2.247894551236902e-08\n",
      "17\n",
      "2.9428859081072812e-08 1.950293470067712e-08\n"
     ]
    }
   ],
   "source": [
    "loss_fun = nn.MSELoss()\n",
    "model_16 = Net1(len(indep_vars), 16, 1)\n",
    "opt_16 = torch.optim.Adam(model_16.parameters(), lr=0.1)\n",
    "\n",
    "for epoch in range(5):\n",
    "    a = train_loop(train_loader, model_16.double(), loss_fun, opt_16)\n",
    "    b = test_loop(valid_loader, model_16.double(), loss_fun)\n",
    "    print(a, b)\n"
   ]
  },
  {
   "cell_type": "code",
   "execution_count": null,
   "metadata": {},
   "outputs": [],
   "source": []
  }
 ],
 "metadata": {
  "interpreter": {
   "hash": "2be5faf79681da6f2a61fdfdd5405d65d042280f7fba6178067603e3a2925119"
  },
  "kernelspec": {
   "display_name": "Python 3.10.2 64-bit",
   "language": "python",
   "name": "python3"
  },
  "language_info": {
   "codemirror_mode": {
    "name": "ipython",
    "version": 3
   },
   "file_extension": ".py",
   "mimetype": "text/x-python",
   "name": "python",
   "nbconvert_exporter": "python",
   "pygments_lexer": "ipython3",
   "version": "3.10.2"
  },
  "orig_nbformat": 4
 },
 "nbformat": 4,
 "nbformat_minor": 2
}
