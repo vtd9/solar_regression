{
  "cells": [
    {
      "cell_type": "markdown",
      "source": [
        "# HW 2\n",
        "\n",
        "Deep Learning, Spring 2022\n",
        "\n",
        "Use neural networks to the fit one year's worth of solar wind measurements."
      ],
      "metadata": {
        "id": "qpE07xUCWVC1"
      }
    },
    {
      "cell_type": "code",
      "execution_count": 3,
      "source": [
        "# Import dependencies\n",
        "from time import time\n",
        "import itertools\n",
        "import numpy as np\n",
        "import pandas as pd\n",
        "import matplotlib.pyplot as plt\n",
        "\n",
        "# PyTorch modules\n",
        "import torch\n",
        "from torch import nn\n",
        "import torch.utils.data as Data\n",
        "\n",
        "# Set plot parameters for entire notebook\n",
        "plt.rcParams['figure.figsize'] = (10, 6)\n",
        "plt.rcParams['figure.dpi'] = 80\n",
        "\n",
        "# Check GPU availability - may not be needed since relatively small models\n",
        "torch.cuda.is_available()"
      ],
      "outputs": [
        {
          "output_type": "execute_result",
          "data": {
            "text/plain": [
              "False"
            ]
          },
          "metadata": {},
          "execution_count": 3
        }
      ],
      "metadata": {
        "id": "G_of0XoVWVC6",
        "colab": {
          "base_uri": "https://localhost:8080/"
        },
        "outputId": "3f5c5c15-c30e-4bc6-c437-0d754a4d8ac6"
      }
    },
    {
      "cell_type": "markdown",
      "source": [
        "# 1 Data preprocessing\n",
        "\n",
        "The CSV file should be in the same directory as this notebook. Otherwise, update the file_name path.\n",
        "\n",
        "References:\n",
        "* https://pytorch.org/tutorials/beginner/basics/data_tutorial.html"
      ],
      "metadata": {
        "id": "PSJLLPEQWVC9"
      }
    },
    {
      "cell_type": "markdown",
      "source": [
        "## 1.1 Read CSV and define variable categories\n",
        "\n",
        "The CSV file is stored in a public GitHub repository for convenience. Alternatively, reference a local file or upload the file into Colab's runtime.\n",
        "\n",
        "Ignore the mixed types warning as last few columns are for physical constants that only span some rows."
      ],
      "metadata": {
        "id": "AtpxUic8WVC-"
      }
    },
    {
      "cell_type": "code",
      "execution_count": 4,
      "source": [
        "url = 'https://raw.githubusercontent.com/vtd9/multilayer-perceptron/' + \\\n",
        "  'temp_space/Sample_Data_Set.csv'\n",
        "url2 ='https://raw.githubusercontent.com/vtd9/multilayer-perceptron/' + \\\n",
        "  'temp_space/v2_Sample_Data_Set.csv'\n",
        "df = pd.concat([pd.read_csv(url), pd.read_csv(url2, low_memory=False)])"
      ],
      "outputs": [],
      "metadata": {
        "id": "E0e3O0fPWVC-"
      }
    },
    {
      "cell_type": "code",
      "execution_count": 5,
      "source": [
        "# Independent variables\n",
        "indep_vars = ['Bx', 'By', 'Bz', 'Bmag_avg', 'Ni_avg', 'Vx', 'Vy', 'Vz', 'VSW', \n",
        "              'Vth_mag_Ion', 'Vth_para_Ion', 'Vth_perp_Ion', 'Ne', 'Ue', \n",
        "              'Te', 'Ti', 'Ti_para', 'Ti_perp']\n",
        "\n",
        "# Derived variables: from independent variables using formulas\n",
        "deriv_vars = ['VA', 'Beta', 'Beta_para', 'Beta_perp', \n",
        "              'Omega_i', 'omega_pi', 'omega_pe', 'rho_i', 'rho_s', 'rho_c', \n",
        "              'd_i', 'd_e', 'sigma_i', 'Lperp', 'lambda_d']\n",
        "\n",
        "# Dependent variable: target\n",
        "dep_var = ['k_brk']\n",
        "\n",
        "# Check that the number of variables in each category are as expected\n",
        "print('Independent: {}, derived: {}, dependent: {}'.format(\n",
        "    len(indep_vars), len(deriv_vars), len(dep_var)))\n",
        "\n",
        "# Convert Pandas dataframes to PyTorch tensors by column names\n",
        "indep = torch.tensor(df[indep_vars].values)\n",
        "deriv = torch.tensor(df[deriv_vars].values)\n",
        "dep = torch.tensor(df[dep_var].values)"
      ],
      "outputs": [
        {
          "output_type": "stream",
          "name": "stdout",
          "text": [
            "Independent: 18, derived: 15, dependent: 1\n"
          ]
        }
      ],
      "metadata": {
        "colab": {
          "base_uri": "https://localhost:8080/"
        },
        "id": "5LfBNMliWVC_",
        "outputId": "149d1555-0408-4bde-e691-5a93dc108076"
      }
    },
    {
      "cell_type": "markdown",
      "source": [
        "## 1.2 Prepare for feeding into network"
      ],
      "metadata": {
        "id": "Qyob8GKyWVDD"
      }
    },
    {
      "cell_type": "code",
      "execution_count": 6,
      "source": [
        "# Normalize inputs and create datasets\n",
        "indep_set = Data.TensorDataset(torch.nn.functional.normalize(indep, dim=0), dep)\n",
        "deriv_set = Data.TensorDataset(torch.nn.functional.normalize(deriv, dim=0), dep)\n",
        "\n",
        "# Decide on training, validation, and testing splits\n",
        "train_size = int(0.7 * len(df))\n",
        "valid_size = int(0.15 * len(df)) + 1\n",
        "test_size = len(df) - (train_size + valid_size)\n",
        "splits = [train_size, valid_size, test_size]\n",
        "\n",
        "print('Training, validation, & testing split:', splits)\n",
        "\n",
        "# Split the data for both indep-dep pairs & derived-dep pairs\n",
        "train_indep, valid_indep, test_indep = Data.random_split(indep_set, splits)\n",
        "train_deriv, valid_deriv, test_deriv = Data.random_split(deriv_set, splits)\n",
        "\n",
        "# Define dataloaders\n",
        "batch_size = 128\n",
        "n_work = 2\n",
        "train_loader_indep = Data.DataLoader(dataset=train_indep, batch_size=batch_size, \n",
        "                                     shuffle=True, num_workers=n_work)\n",
        "valid_loader_indep = Data.DataLoader(dataset=valid_indep, batch_size=batch_size,\n",
        "                                     shuffle=True, num_workers=n_work)\n",
        "test_loader_indep = Data.DataLoader(dataset=test_indep, batch_size=batch_size, \n",
        "                                    shuffle=True, num_workers=n_work)\n",
        "train_loader_deriv= Data.DataLoader(dataset=train_deriv, batch_size=batch_size, \n",
        "                                    shuffle=True, num_workers=n_work)\n",
        "valid_loader_deriv = Data.DataLoader(dataset=valid_deriv, batch_size=batch_size, \n",
        "                                     shuffle=True, num_workers=n_work)\n",
        "test_loader_deriv = Data.DataLoader(dataset=test_deriv, batch_size=batch_size, \n",
        "                                    shuffle=True, num_workers=n_work)"
      ],
      "outputs": [
        {
          "output_type": "stream",
          "name": "stdout",
          "text": [
            "Training, validation, & testing split: [75156, 16105, 16105]\n"
          ]
        }
      ],
      "metadata": {
        "colab": {
          "base_uri": "https://localhost:8080/"
        },
        "id": "v0SQUiy_WVDE",
        "outputId": "23ec8ecd-501b-4035-f2eb-2cfabec67129"
      }
    },
    {
      "cell_type": "code",
      "source": [
        "# Check dimensions\n",
        "indep_set[:][0].shape, deriv_set[:][0].shape"
      ],
      "metadata": {
        "colab": {
          "base_uri": "https://localhost:8080/"
        },
        "id": "_30F_LYaYG3Z",
        "outputId": "0138740b-99bc-44ab-cfc7-10d45aee7e53"
      },
      "execution_count": 7,
      "outputs": [
        {
          "output_type": "execute_result",
          "data": {
            "text/plain": [
              "(torch.Size([107366, 18]), torch.Size([107366, 15]))"
            ]
          },
          "metadata": {},
          "execution_count": 7
        }
      ]
    },
    {
      "cell_type": "markdown",
      "source": [
        "## 1.3 Visualize the input data"
      ],
      "metadata": {
        "id": "B96g7uNzWVDA"
      }
    },
    {
      "cell_type": "code",
      "execution_count": 8,
      "source": [
        "def plot_many(xs, y, xs_names, num_cols=6, title='', subfont=10,\n",
        "              size=(10, 8)):\n",
        "  '''\n",
        "  Plot multiple variables against a single one.\n",
        "  '''\n",
        "  num_plots = len(xs_names)\n",
        "  num_rows = int(num_plots / num_cols) + 1\n",
        "  plt.subplots(figsize=size)\n",
        "\n",
        "  # For each variable in x\n",
        "  for i in range(num_plots):\n",
        "      plt.subplot(num_rows, num_cols, i + 1)\n",
        "      plt.plot(xs[:, i].cpu(), y.cpu(), '.', alpha=0.5)\n",
        "      plt.title(xs_names[i], y=1.15, fontsize=subfont)\n",
        "      plt.ticklabel_format(style='sci', scilimits=(-3, 4), axis='x')\n",
        "  plt.suptitle(title)\n",
        "  plt.tight_layout(rect=[0, 0.05, 1, 0.96])"
      ],
      "outputs": [],
      "metadata": {
        "id": "4XYqp89gWVDB"
      }
    },
    {
      "cell_type": "code",
      "execution_count": 9,
      "source": [
        "#plot_many(indep, dep[:, 0], indep_vars, title='Independent variables vs. $k_{brk}$')"
      ],
      "outputs": [],
      "metadata": {
        "id": "4pOZaXaJWVDC"
      }
    },
    {
      "cell_type": "code",
      "execution_count": 10,
      "source": [
        "#plot_many(deriv, dep[:, 0], deriv_vars, title='Derived variables vs. $k_{brk}$')"
      ],
      "outputs": [],
      "metadata": {
        "id": "MnBFbc5AWVDD"
      }
    },
    {
      "cell_type": "markdown",
      "source": [
        "# 2 Define classes and functions\n",
        "\n",
        "References:\n",
        "* https://pytorch.org/tutorials/beginner/basics/buildmodel_tutorial.html\n",
        "* https://pytorch.org/tutorials/beginner/basics/optimization_tutorial.html"
      ],
      "metadata": {
        "id": "GDQw48LgWVDF"
      }
    },
    {
      "cell_type": "markdown",
      "source": [
        "## 2.1 `Net` class\n",
        "\n",
        "Define a general template to easily create models."
      ],
      "metadata": {
        "id": "8WtzaEKMWVDG"
      }
    },
    {
      "cell_type": "markdown",
      "source": [
        "Regarding the order of activation, batch normalization, and dropout, and whether dropout is necessary when the model has batch normalization, different people seem to have different opinions: \n",
        "* https://stackoverflow.com/questions/39691902/ordering-of-batch-normalization-and-dropout. \n",
        "* https://www.kaggle.com/code/ryanholbrook/dropout-and-batch-normalization/tutorial\n",
        "\n",
        "Here, apply batch normalization after activation and dropout after normalization."
      ],
      "metadata": {
        "id": "kOH5_rmUAD1h"
      }
    },
    {
      "cell_type": "code",
      "execution_count": 25,
      "source": [
        "class Net(nn.Module): \n",
        "  def __init__(self, n_in, hiddens, n_out, batch_norm=True, p_dropout=0.5):\n",
        "    super(Net, self).__init__()\n",
        "    self.n_in = n_in\n",
        "    self.n_out = n_out\n",
        "    layers = []\n",
        "    \n",
        "    # Define hidden layer(s)\n",
        "    hiddens_list = [n_in, ] + list(hiddens)\n",
        "    for i, hidden in enumerate(hiddens_list[:-1]):\n",
        "        curr_hidden = [nn.Linear(hidden, hiddens_list[i+1]),]\n",
        "\n",
        "        # Add activation (ReLU)\n",
        "        curr_hidden.append(nn.ReLU())\n",
        "\n",
        "        # If set, add batch normalization\n",
        "        if batch_norm:\n",
        "            curr_hidden.append(nn.BatchNorm1d(hiddens_list[i+1]))\n",
        "\n",
        "        # If set, add dropout\n",
        "        if p_dropout is not None:\n",
        "            curr_hidden.append(nn.Dropout(p_dropout))    \n",
        "            \n",
        "        layers += curr_hidden \n",
        "\n",
        "    # Define output layer\n",
        "    layers.append(nn.Linear(hiddens[-1], n_out))\n",
        "\n",
        "    # Define entire stack\n",
        "    self.stack = nn.Sequential(*layers)\n",
        "      \n",
        "  def forward(self, x):\n",
        "      logits = self.stack(x)\n",
        "      return logits\n",
        "\n",
        "# Initialize parameters\n",
        "def init_parameters(m):\n",
        "  if isinstance(m, nn.Linear):\n",
        "      # weights: Kaiming initialization\n",
        "      nn.init.kaiming_normal_(m.weight)\n",
        "\n",
        "      # biases: set to 0, as discussed in class\n",
        "      m.bias.data.fill_(0.0) # Set bias to 0"
      ],
      "outputs": [],
      "metadata": {
        "id": "lITn3aY5WVDG"
      }
    },
    {
      "cell_type": "code",
      "source": [
        "def mult_models(n_in, hidden_dims, n_out, lr, momentum=0.6,\n",
        "                decay=1e-5, opt_sgd=True, one_model=True):\n",
        "  '''\n",
        "  Create multiple models using one or more configurations for the hidden \n",
        "  layers. Return as a dictionary with keys based on the number of neurons in\n",
        "  the hidden layers as well the model-specific add-ons or lack thereof.\n",
        "  '''\n",
        "  models_dict = {}\n",
        "  for dim in hidden_dims:  \n",
        "    # Batch norm & dropout of 50%\n",
        "    model = Net(n_in, dim, n_out)\n",
        "    model.apply(init_parameters)\n",
        "    if opt_sgd:\n",
        "      models_dict[str(dim) + ' drop 50%'] = {\n",
        "          'model': model,\n",
        "          'opt' : torch.optim.SGD(model.parameters(), lr=lr,\n",
        "                                  momentum=momentum, weight_decay=decay)}\n",
        "    else:\n",
        "          models_dict[str(dim) + ' drop 50%'] = {\n",
        "          'model': model,\n",
        "          'opt': torch.optim.Adam(model.parameters(), \n",
        "                                  lr=lr, weight_decay=decay)}\n",
        "\n",
        "    if not one_model: # Create more models\n",
        "      # Batch norm, but no dropout\n",
        "      model = Net(n_in, dim, n_out, p_dropout=None)\n",
        "      model.apply(init_parameters)\n",
        "      if opt_sgd:\n",
        "        models_dict[str(dim) + ' no drop'] = {\n",
        "            'model': model,\n",
        "            'opt' : torch.optim.SGD(model.parameters(), lr=lr,\n",
        "                                    momentum=momentum, weight_decay=decay)}\n",
        "      else:\n",
        "            models_dict[str(dim) + ' no drop'] = {\n",
        "            'model': model,\n",
        "            'opt': torch.optim.Adam(model.parameters(), lr=lr)}\n",
        "      \n",
        "      # No norm, no dropout\n",
        "      model = Net(n_in, dim, n_out, batch_norm=False, p_dropout=None)\n",
        "      model.apply(init_parameters)\n",
        "      if opt_sgd:\n",
        "        models_dict[str(dim) + ' no norm'] = {\n",
        "            'model': model,\n",
        "            'opt' : torch.optim.SGD(model.parameters(), lr=lr,\n",
        "                                    momentum=momentum, weight_decay=decay)}\n",
        "      else:\n",
        "            models_dict[str(dim) + ' no norm'] = {\n",
        "            'model': model,\n",
        "            'opt': torch.optim.Adam(model.parameters(), lr=lr)}\n",
        "\n",
        "  return models_dict"
      ],
      "metadata": {
        "id": "UcyneIdF6X9L"
      },
      "execution_count": 30,
      "outputs": []
    },
    {
      "cell_type": "markdown",
      "source": [
        "## 2.2 Training, testing, and plotting functions\n",
        "\n",
        "Train & test functions for one loop through the datasets (aka one epoch) as well as loop over multiple epochs.\n",
        "\n",
        "Option to configure a GPU with PyTorch.\n",
        "\n",
        "* https://pytorch.org/docs/stable/notes/cuda.html\n",
        "* https://stanford.edu/~shervine/blog/pytorch-how-to-generate-data-parallel"
      ],
      "metadata": {
        "id": "dtEVVFjzWVDH"
      }
    },
    {
      "cell_type": "code",
      "execution_count": 13,
      "source": [
        "def train_loop(loader, model, loss_fun, optimizer, device='cpu'):\n",
        "  '''\n",
        "  Train a model for one epoch - i.e., one pass through the training data set.\n",
        "  Since gradients must be calculated anyways during training, store gradient\n",
        "  of prediction wrt to inputs and return the average over the batches.\n",
        "  '''\n",
        "  train_loss = 0.0\n",
        "  model = model.double()\n",
        "  model = model.to(device)\n",
        "\n",
        "  # For each batch\n",
        "  for X, y in loader:\n",
        "    X.requires_grad = True\n",
        "    X = X.to(device)\n",
        "    y = y.to(device)\n",
        "\n",
        "    optimizer.zero_grad() # clear previous gradients\n",
        "    yhat = model(X) # prediction\n",
        "    loss = loss_fun(yhat, y) # compute loss\n",
        "    train_loss += loss.item() # assume reduction over batch\n",
        "\n",
        "    loss.backward(retain_graph=True) # compute gradients\n",
        "    optimizer.step() # apply gradients\n",
        "\n",
        "  # Average over number of batches\n",
        "  return train_loss/len(loader)\n",
        "    \n",
        "def test_loop(loader, model, loss_fun, device='cpu', return_y=False):\n",
        "  '''\n",
        "  Test a model through one pass through a validation/test data set.\n",
        "  '''\n",
        "  test_loss = 0.0\n",
        "  model = model.double()\n",
        "  model = model.to(device)\n",
        "\n",
        "  # No backprop during validation/testing\n",
        "  with torch.no_grad():\n",
        "    for X, y in loader:\n",
        "      X = X.to(device)\n",
        "      y = y.to(device)\n",
        "      yhat = model(X)\n",
        "      test_loss += loss_fun(yhat, y).item()\n",
        "\n",
        "  # If requested, return last yhat & the corresponding labels, too\n",
        "  if return_y: \n",
        "    return yhat, y, test_loss/len(loader)\n",
        "  else: # Else, return average loss in the loop\n",
        "    return test_loss/len(loader)\n",
        "\n",
        "def train_epochs(train_loader, valid_loader, model, loss_fun, optimizer, \n",
        "    epochs, verbose=False, use_gpu=False):\n",
        "    '''\n",
        "    Train and validate a model over multiple epochs.\n",
        "    '''\n",
        "    train_losses = torch.empty(epochs)\n",
        "    valid_losses = torch.empty(epochs)\n",
        "    grads = torch.empty(epochs, model.n_in)\n",
        "\n",
        "    if use_gpu:\n",
        "      device = torch.device(\"cuda:0\" if torch.cuda.is_available() else \"cpu\")\n",
        "    else:\n",
        "      device = 'cpu'\n",
        "\n",
        "    # For each epoch\n",
        "    for epoch in range(epochs):\n",
        "        train_losses[epoch] = train_loop(train_loader, model, \n",
        "            loss_fun, optimizer=optimizer, device=device)\n",
        "        valid_losses[epoch] = test_loop(valid_loader, model, \n",
        "                                       loss_fun, device=device)\n",
        "        if verbose:\n",
        "            print('epoch: {}\\ttraining loss: {:.3e}'\n",
        "            '\\tvalidation loss: {:.3e}'.format(\n",
        "                epoch, train_losses[epoch], valid_losses[epoch]))\n",
        "    \n",
        "    return train_losses, valid_losses"
      ],
      "outputs": [],
      "metadata": {
        "id": "KsFeALBOWVDH"
      }
    },
    {
      "cell_type": "markdown",
      "source": [
        "### 2.2.1 Multiple models\n",
        "\n",
        "Functions to handle multiple models."
      ],
      "metadata": {
        "id": "lLSfOYdvz4em"
      }
    },
    {
      "cell_type": "code",
      "source": [
        "def train_mult_models(models, train_loader, valid_loader, loss_fun,\n",
        "                      epochs=25, verbose=False, use_gpu=False):\n",
        "  '''\n",
        "  Train (and validate) multiple models in sequence. Assume `models` is a\n",
        "  dictionary produced by the above function `mult_models`.\n",
        "  '''\n",
        "  fun_start = time()\n",
        "  for key, value in models.items():\n",
        "    start = time()\n",
        "    model = value['model']\n",
        "    opt = value['opt']\n",
        "    models[key]['result'] = train_epochs(\n",
        "        train_loader, valid_loader, model, \n",
        "        loss_fun=loss_fun, optimizer=opt, epochs=epochs, verbose=verbose,\n",
        "        use_gpu=use_gpu)\n",
        "    print('{0: <25}'.format(key), '{:.1f}s'.format(time() - start))\n",
        "  print('Total time: {:.1f}s'.format(time() - fun_start))\n",
        "\n",
        "def get_ending_losses(models, get_valid=True):\n",
        "  '''\n",
        "  Print out multiple models' performance after the last loop.\n",
        "  '''\n",
        "  for key, value in models.items():\n",
        "    if get_valid:\n",
        "      print('{0: <25}'.format(key), \n",
        "            'validation loss: {:.3e}'.format(value['result'][1][-1]))\n",
        "    else:\n",
        "      print('{0: <25}'.format(key), \n",
        "            'training loss: {:.3e}'.format(value['result'][0][-1]))\n",
        "\n",
        "def plot_mult_models(models, xlabel='Epoch', ylabel='Mean squared error', \n",
        "                     yscale='log', title='', train_index=0, valid_index=1,\n",
        "                     result_key='result', train_append=' training', \n",
        "                     valid_append=' validation', train_style='-', \n",
        "                     valid_style='--', bottom_legend=True):\n",
        "  '''\n",
        "  Plot multiple models on the same graph, each with its own training and \n",
        "  validation results.\n",
        "  '''\n",
        "  colors=itertools.cycle(('tab:blue', 'tab:orange', 'tab:green', 'tab:red',\n",
        "                          'tab:purple', 'tab:pink','b', 'y', 'c', 'm', 'k',\n",
        "                          'tab:gray', 'tab:olive'))\n",
        "  for key, value in models.items():\n",
        "    color = next(colors)\n",
        "    epochs = value[result_key][0].shape[0]\n",
        "    # Plot training performance\n",
        "    plt.plot(np.arange(epochs), \n",
        "        value[result_key][train_index], train_style, \n",
        "        color=color, label=key+train_append)\n",
        "    \n",
        "    # Plot validation performance\n",
        "    plt.plot(np.arange(epochs), \n",
        "        value[result_key][valid_index], valid_style, \n",
        "        color=color, label=key+valid_append)\n",
        "  plt.title(title)\n",
        "  plt.yscale(yscale)\n",
        "  plt.xlabel(xlabel)\n",
        "  plt.ylabel(ylabel)\n",
        "  if bottom_legend:\n",
        "    plt.legend(loc='upper center', ncol=2, bbox_to_anchor=(0.5, -0.1))\n",
        "  else:\n",
        "     plt.legend(ncol=2)"
      ],
      "metadata": {
        "id": "PRHQ47rUeRvv"
      },
      "execution_count": 14,
      "outputs": []
    },
    {
      "cell_type": "markdown",
      "source": [
        "# 3 Independent &rarr; dependent variables\n",
        "\n",
        "Create a model to relate the independent variables to the dependent variable."
      ],
      "metadata": {
        "id": "GMjcYe57WVDI"
      }
    },
    {
      "cell_type": "code",
      "source": [
        "# Standard mean squared error loss function\n",
        "mse = nn.MSELoss(reduction='mean') # default reduction"
      ],
      "metadata": {
        "id": "IyusF5ERBfiE"
      },
      "execution_count": 15,
      "outputs": []
    },
    {
      "cell_type": "markdown",
      "source": [
        "## 3.1 Three hidden layers"
      ],
      "metadata": {
        "id": "EVVzvsIlWVDI"
      }
    },
    {
      "cell_type": "markdown",
      "source": [
        "Before, tested with more hidden neurons. No large difference in MSE losses between (32, 16, 8) and (16, 8, 4) after 10 epochs:\n",
        "\n",
        "```\n",
        "(32, 16, 8) drop 50%      validation loss: 1.201e-11\n",
        "(32, 16, 8) no drop       validation loss: 1.111e-11\n",
        "(32, 16, 8) no norm       validation loss: 2.440e-07\n",
        "(16, 8, 4) drop 50%       validation loss: 1.200e-11\n",
        "(16, 8, 4) no drop        validation loss: 1.165e-11\n",
        "(16, 8, 4) no norm        validation loss: 3.134e-09\n",
        "```\n",
        "\n",
        "In contrast, larger difference between (16, 8, 4) and (8, 4, 2) after 3 epochs:\n",
        "```\n",
        "(16, 8, 4) drop 50%       validation loss: 1.415e-07\n",
        "(16, 8, 4) no drop        validation loss: 2.495e-07\n",
        "(16, 8, 4) no norm        validation loss: 4.049e-08\n",
        "(8, 4, 2) drop 50%        validation loss: 1.213e-11\n",
        "(8, 4, 2) no drop         validation loss: 1.203e-11\n",
        "(8, 4, 2) no norm         validation loss: 1.219e-11\n",
        "```"
      ],
      "metadata": {
        "id": "ZfYdeyE-tELf"
      }
    },
    {
      "cell_type": "code",
      "execution_count": 31,
      "source": [
        "# Create container to store models, optimizers, & results in\n",
        "m3 = mult_models(len(indep_vars), [(16, 8, 4), (8, 4, 2)], 1, lr=0.1, one_model=False)\n",
        "\n",
        "# Train\n",
        "train_mult_models(m3, train_loader_indep, valid_loader_indep, mse, 3)"
      ],
      "outputs": [
        {
          "output_type": "stream",
          "name": "stdout",
          "text": [
            "(16, 8, 4) drop 50%       9.3s\n",
            "(16, 8, 4) no drop        7.7s\n",
            "(16, 8, 4) no norm        6.7s\n",
            "(8, 4, 2) drop 50%        7.8s\n",
            "(8, 4, 2) no drop         7.7s\n",
            "(8, 4, 2) no norm         6.6s\n",
            "Total time: 45.8s\n"
          ]
        }
      ],
      "metadata": {
        "id": "qzA4PPb0WVDJ",
        "colab": {
          "base_uri": "https://localhost:8080/"
        },
        "outputId": "d6039f81-d5b8-47f7-94e3-88ff22976f1e"
      }
    },
    {
      "cell_type": "code",
      "source": [
        "# See actual losses from validation\n",
        "get_ending_losses(m3)"
      ],
      "metadata": {
        "colab": {
          "base_uri": "https://localhost:8080/"
        },
        "id": "EQPXMqNzpCK-",
        "outputId": "e8af537d-dc6d-400f-82d5-a7d93d007cef"
      },
      "execution_count": 32,
      "outputs": [
        {
          "output_type": "stream",
          "name": "stdout",
          "text": [
            "(16, 8, 4) drop 50%       validation loss: 1.415e-07\n",
            "(16, 8, 4) no drop        validation loss: 2.495e-07\n",
            "(16, 8, 4) no norm        validation loss: 4.049e-08\n",
            "(8, 4, 2) drop 50%        validation loss: 1.213e-11\n",
            "(8, 4, 2) no drop         validation loss: 1.203e-11\n",
            "(8, 4, 2) no norm         validation loss: 1.219e-11\n"
          ]
        }
      ]
    },
    {
      "cell_type": "code",
      "source": [
        "# Plot on log scale\n",
        "plot_mult_models(m3, title='Independent variables to $k_{brk}$' \n",
        "                 + '\\nModels with three hidden layers')"
      ],
      "metadata": {
        "colab": {
          "base_uri": "https://localhost:8080/",
          "height": 600
        },
        "id": "dz0zethvzvxv",
        "outputId": "e6164697-ca01-4715-97a4-d4d02ae5b407"
      },
      "execution_count": 27,
      "outputs": [
        {
          "output_type": "display_data",
          "data": {
            "text/plain": [
              "<Figure size 800x480 with 1 Axes>"
            ],
            "image/png": "[encoded data removed]"
          },
          "metadata": {
            "needs_background": "light"
          }
        }
      ]
    },
    {
      "cell_type": "code",
      "source": [
        "# Zoom in and plot on linear scale\n",
        "plot_mult_models(m3, yscale='linear', title='Independent variables to $k_{brk}$'\n",
        "                 + '\\nModels with three hidden layers')\n",
        "plt.ylim(8e-12, 1.4e-11)"
      ],
      "metadata": {
        "colab": {
          "base_uri": "https://localhost:8080/",
          "height": 617
        },
        "id": "s9doHm8xoP-J",
        "outputId": "2c391dbe-ee7a-4865-e0f7-ce19230cc308"
      },
      "execution_count": 19,
      "outputs": [
        {
          "output_type": "execute_result",
          "data": {
            "text/plain": [
              "(8e-12, 1.4e-11)"
            ]
          },
          "metadata": {},
          "execution_count": 19
        },
        {
          "output_type": "display_data",
          "data": {
            "text/plain": [
              "<Figure size 800x480 with 1 Axes>"
            ],
            "image/png": "[encoded data removed]"
          },
          "metadata": {
            "needs_background": "light"
          }
        }
      ]
    },
    {
      "cell_type": "markdown",
      "source": [
        "#### 3.1.1 ADAM\n",
        "\n",
        "Experiment with another optimization algorithm, ADAM, instead of stochastic gradient descent (SGD)."
      ],
      "metadata": {
        "id": "qGzBeiMQNDM4"
      }
    },
    {
      "cell_type": "code",
      "source": [
        "m3a = mult_models(len(indep_vars), [(16, 8, 4), (8, 4, 2)], 1, 0.01, opt_sgd=False)\n",
        "train_mult_models(m3a, train_loader_indep, valid_loader_indep, mse, epochs=25)"
      ],
      "metadata": {
        "id": "OFTYVyqGL_Fj"
      },
      "execution_count": null,
      "outputs": []
    },
    {
      "cell_type": "code",
      "source": [
        "get_ending_losses(m3), print('\\nCompare to:'), get_ending_losses(m3a)"
      ],
      "metadata": {
        "id": "VKSWcsb0MD7q"
      },
      "execution_count": null,
      "outputs": []
    },
    {
      "cell_type": "code",
      "source": [
        "plot_mult_models(m3a, \n",
        "                 title='Independent variables to $k_{brk}$'\n",
        "                 + '\\nModels with three hidden layers and ADAM optimizer')"
      ],
      "metadata": {
        "id": "G3vEve7pNbh3"
      },
      "execution_count": null,
      "outputs": []
    },
    {
      "cell_type": "markdown",
      "source": [
        "## 3.2 Four hidden layers"
      ],
      "metadata": {
        "id": "qqSZtAzZrh3c"
      }
    },
    {
      "cell_type": "code",
      "source": [
        "m4 = mult_models(len(indep_vars), [(24, 16, 8, 4), (12, 8, 4, 2)], 1, 0.01)\n",
        "train_mult_models(m4, train_loader_indep, valid_loader_indep, mse, \n",
        "                  epochs=25)"
      ],
      "metadata": {
        "id": "nR2N43jzl5l7"
      },
      "execution_count": null,
      "outputs": []
    },
    {
      "cell_type": "code",
      "source": [
        "get_ending_losses(m4)"
      ],
      "metadata": {
        "id": "Qt-W9IZXsDjR"
      },
      "execution_count": null,
      "outputs": []
    },
    {
      "cell_type": "code",
      "source": [
        "plot_mult_models(m4,\n",
        "                 title='Independent variables to $k_{brk}$'\n",
        "                 + '\\nModels with four hidden layers')"
      ],
      "metadata": {
        "id": "InoDBlEXmiiL"
      },
      "execution_count": null,
      "outputs": []
    },
    {
      "cell_type": "code",
      "source": [
        "plot_mult_models(m4, yscale='linear',\n",
        "                 title='Independent variables to $k_{brk}$'\n",
        "                 + '\\nModels with four hidden layers')\n",
        "plt.ylim(8e-12, 1.3e-11)"
      ],
      "metadata": {
        "id": "V7aOjRuHm_o6"
      },
      "execution_count": null,
      "outputs": []
    },
    {
      "cell_type": "markdown",
      "source": [
        "## 3.3 Five hidden layers"
      ],
      "metadata": {
        "id": "DXphxZcC-ESJ"
      }
    },
    {
      "cell_type": "code",
      "source": [
        "# Create container to store models, optimizers, & results in\n",
        "m5 = mult_models(len(indep_vars), [(24, 20, 16, 8, 4), (16, 12, 8, 4, 2)], \n",
        "                      1, 0.01)\n",
        "\n",
        "# Train\n",
        "train_mult_models(m5, train_loader_indep, valid_loader_indep, mse, \n",
        "                  epochs=25)"
      ],
      "metadata": {
        "id": "JZ9H0a11-834"
      },
      "execution_count": null,
      "outputs": []
    },
    {
      "cell_type": "code",
      "source": [
        "# See actual losses from validation\n",
        "get_ending_losses(m5)"
      ],
      "metadata": {
        "id": "4iIS0O3h_iX5"
      },
      "execution_count": null,
      "outputs": []
    },
    {
      "cell_type": "code",
      "source": [
        "plot_mult_models(m5,\n",
        "                 title='Independent variables to $k_{brk}$'\n",
        "                 + '\\nModels with five hidden layers and SGD optimizer')"
      ],
      "metadata": {
        "id": "d-TrUZp3Astu"
      },
      "execution_count": null,
      "outputs": []
    },
    {
      "cell_type": "code",
      "source": [
        "plot_mult_models(m5, yscale='linear',\n",
        "                 title='Independent variables to $k_{brk}$'\n",
        "                 + '\\nModels with five hidden layers and SGD optimizer')\n",
        "plt.ylim(7e-12, 1.1e-11)"
      ],
      "metadata": {
        "id": "cVAZ2R4GCxgB"
      },
      "execution_count": null,
      "outputs": []
    },
    {
      "cell_type": "markdown",
      "source": [
        "## 3.4 Test dataset\n",
        "\n",
        "Report chosen model's performance with test set"
      ],
      "metadata": {
        "id": "cLMugexII9gH"
      }
    },
    {
      "cell_type": "code",
      "source": [
        "model = m3['(8, 4, 2) no drop']['model']\n",
        "test_loss = test_loop(test_loader_indep, model, mse)\n",
        "print('{:.3e}'.format(test_loss))"
      ],
      "metadata": {
        "id": "QFuIYsL3XeQS"
      },
      "execution_count": null,
      "outputs": []
    },
    {
      "cell_type": "markdown",
      "source": [
        "# 4 Derived &rarr; dependent variables"
      ],
      "metadata": {
        "id": "YEBZlqckWVDK"
      }
    },
    {
      "cell_type": "markdown",
      "source": [
        "## 3.1 Three hidden layers"
      ],
      "metadata": {
        "id": "h4c5wtSQeKSu"
      }
    },
    {
      "cell_type": "code",
      "execution_count": null,
      "source": [
        "m3_deriv = mult_models(len(deriv_vars), [(16, 8, 4), (8, 4, 2)], 1, lr=0.01)\n",
        "train_mult_models(m3_deriv, train_loader_deriv, valid_loader_deriv, mse, 25)"
      ],
      "outputs": [],
      "metadata": {
        "id": "qorm7RjBeKSu"
      }
    },
    {
      "cell_type": "code",
      "source": [
        "# See actual losses from validation\n",
        "get_ending_losses(m3_deriv)"
      ],
      "metadata": {
        "id": "2egTBVkQeKSu"
      },
      "execution_count": null,
      "outputs": []
    },
    {
      "cell_type": "code",
      "source": [
        "# Plot on log scale\n",
        "plot_mult_models(m3_deriv,\n",
        "                 title='Derived variables to $k_{brk}$'\n",
        "                 + '\\nModels with three hidden layers')"
      ],
      "metadata": {
        "id": "cY-1FV0reKSv"
      },
      "execution_count": null,
      "outputs": []
    },
    {
      "cell_type": "code",
      "source": [
        "# Plot on linear scale\n",
        "plot_mult_models(m3_deriv, yscale='linear',\n",
        "                 title='Derived variables to $k_{brk}$'\n",
        "                 + '\\nModels with three hidden layers')\n",
        "plt.ylim(8e-12, 1.4e-11)"
      ],
      "metadata": {
        "id": "cdKBlsgQeKSv"
      },
      "execution_count": null,
      "outputs": []
    },
    {
      "cell_type": "markdown",
      "source": [
        "# 5 Derivatives"
      ],
      "metadata": {
        "id": "Fg45Eqn6Jtb_"
      }
    },
    {
      "cell_type": "markdown",
      "source": [
        "## 5.1 Analytical differentiation\n",
        "\n",
        "As described in the attached report, the derivatives of the independent and derived variables related to `k_brk` were found by hand. These are defined below for later comparison with the gradients from the neural network."
      ],
      "metadata": {
        "id": "sbULd0e3iiEV"
      }
    },
    {
      "cell_type": "code",
      "source": [
        "def dk_brk_dlambda_r(lambda_r, A=1):\n",
        "  '''Derivative of k_brk wrt lambda_r'''\n",
        "  return -A * lambda_r**-2\n",
        "\n",
        "def dlamda_r_dLperp(Lperp, d_e, rho_s, C0=1):\n",
        "  '''Derivative of lambda_r wrt Lperp'''\n",
        "  return (1./9.) * C0 * Lperp**(-8./9.)*(d_e*rho_s)**(4./5.)\n",
        "\n",
        "def dlambda_r_dd_e(Lperp, d_e, rho_s, C0=1):\n",
        "  '''Derivative of lambda_r wrt d_e '''\n",
        "  return C0 * Lperp**(1./9.) * (4./5.) * (d_e*rho_s)**(-1./5.) * rho_s\n",
        "\n",
        "def dlambda_r_rho_s(Lperp, d_e, rho_s, C0=1):\n",
        "  '''Derivative of lambda_r wrt rho_s'''\n",
        "  return C0 * Lperp**(1./9.) * (4./5.) * (d_e*rho_s)**(-1./5.) * d_e\n",
        "\n",
        "def dLperp_dvsw():\n",
        "  '''Derivative of Lperp wrt VSW'''\n",
        "  return 1./(2 * torch.pi * 10**-4)\n",
        "\n",
        "def dde_domega_pe(omega_pe, c=2.9979E8):\n",
        "  '''Derivative of '''\n",
        "  return -c * omega_pe**-2\n",
        "\n",
        "def drho_s_drho_i(Te, Ti, Z=1.0):\n",
        "  '''Derivative of '''\n",
        "  return (Z*Te / (2*Ti))**0.5\n",
        "\n",
        "def drho_s_dTi(rho_i, Te, Ti, Z=1.0):\n",
        "  '''Derivative of '''\n",
        "  return -0.5 * rho_i * (Z*Te / (2.0*Ti**3))**0.5\n",
        "\n",
        "def drho_s_dTe(rho_i, Te, Ti, Z=1.0):\n",
        "  '''Derivative of '''\n",
        "  return 0.5 * rho_i * (Z / (2.0*Ti*Te))**0.5\n",
        "\n",
        "def domega_pe_dNe(Ne, e=1.6022E-19, eps0=8.8542E-12, mp=9.1094E-31):\n",
        "  '''Derivative of omega_pe wrt Ne'''\n",
        "  return 0.5 * (e / (eps0*mp*Ne))**0.5\n",
        "\n",
        "def drho_i_Vth_perp_Ion(Omega_i):\n",
        "  '''Derivative of rho_i wrt Vth_perp_Ion'''\n",
        "  return 1/Omega_i\n",
        "\n",
        "def drho_i_dOmega_i(Vth_perp_Ion, Omega_i):\n",
        "  '''Derivative of rho_i wrt Omega_i'''\n",
        "  return -Vth_perp_Ion/Omega_i**2\n",
        "\n",
        "def dOmega_i_dB(e=1.6022E-19, mp=9.1094E-31):\n",
        "  '''Derivative of Omega_i wrt B'''\n",
        "  return e/mp\n",
        "\n",
        "def dB_i_dBx(Bx, By, Bz):\n",
        "  '''Derivative of B wrt Bx'''\n",
        "  return Bx * (Bx**2 + By**2 + Bz**2)**(-0.5)\n",
        "\n",
        "def dB_i_dBy(Bx, By, Bz):\n",
        "  '''Derivative of B wrt By'''\n",
        "  return By * (Bx**2 + By**2 + Bz**2)**(-0.5)\n",
        "\n",
        "def dB_i_dBz(Bx, By, Bz):\n",
        "  '''Derivative of B wrt Bz'''\n",
        "  return Bz * (Bx**2 + By**2 + Bz**2)**(-0.5)"
      ],
      "metadata": {
        "id": "AfAbVxdSvE21"
      },
      "execution_count": null,
      "outputs": []
    },
    {
      "cell_type": "code",
      "source": [
        "def derive_from_tensors(indep_vars, deriv_vars, indep_tensor, deriv_tensor):\n",
        "  '''\n",
        "  Derive k_brk wrt different variables using the formulas & the chain rule.\n",
        "  '''\n",
        "  grads = {}\n",
        "\n",
        "  # step 1: From k_brk to lambda_r (lambda_d in spreadsheet)\n",
        "  grads['lambda_d'] = dk_brk_dlambda_r(\n",
        "      deriv_tensor[:, deriv_vars.index('lambda_d')])\n",
        "\n",
        "  # step 2: lambda_r to Lperp, d_e, & rho_s\n",
        "  grads['Lperp'] = grads['lambda_d'] * dlamda_r_dLperp(\n",
        "      deriv_tensor[:, deriv_vars.index('Lperp')],\n",
        "      deriv_tensor[:, deriv_vars.index('d_e')],\n",
        "      deriv_tensor[:, deriv_vars.index('rho_s')])\n",
        "  grads['d_e'] = grads['lambda_d'] * dlambda_r_dd_e(\n",
        "      deriv_tensor[:, deriv_vars.index('Lperp')],\n",
        "      deriv_tensor[:, deriv_vars.index('d_e')],\n",
        "      deriv_tensor[:, deriv_vars.index('rho_s')])\n",
        "  grads['rho_s'] = grads['lambda_d'] * dlambda_r_rho_s(\n",
        "      deriv_tensor[:, deriv_vars.index('Lperp')],\n",
        "      deriv_tensor[:, deriv_vars.index('d_e')],\n",
        "      deriv_tensor[:, deriv_vars.index('rho_s')])\n",
        "\n",
        "  # step 3: d_e to omega_pe; rho_s to rho_i, Ti, & Te\n",
        "  grads['VSW'] = grads['Lperp'] * dLperp_dvsw()\n",
        "  grads['omega_pe'] = grads['d_e'] * dde_domega_pe(\n",
        "      deriv_tensor[:, deriv_vars.index('omega_pe')])\n",
        "  grads['rho_i'] = grads['rho_s'] * drho_s_drho_i(\n",
        "      indep_tensor[:, indep_vars.index('Te')], \n",
        "      indep_tensor[:, indep_vars.index('Ti')])\n",
        "  grads['Ti'] = grads['rho_s'] * drho_s_dTi(\n",
        "      deriv_tensor[:, deriv_vars.index('rho_i')],       \n",
        "      indep_tensor[:, indep_vars.index('Te')], \n",
        "      indep_tensor[:, indep_vars.index('Ti')])\n",
        "  grads['Te'] = grads['rho_s'] * drho_s_dTe(\n",
        "      deriv_tensor[:, deriv_vars.index('rho_i')],       \n",
        "      indep_tensor[:, indep_vars.index('Te')], \n",
        "      indep_tensor[:, indep_vars.index('Ti')])\n",
        "\n",
        "  # step 4: omega_pe to Ne; rho_i to Vth_perp_Ion & Omega_i\n",
        "  grads['Ne'] = grads['omega_pe'] * domega_pe_dNe(\n",
        "      indep_tensor[:, indep_vars.index('Ne')])\n",
        "  grads['Vth_perp_Ion'] = grads['rho_i'] * drho_i_Vth_perp_Ion(\n",
        "      deriv_tensor[:, deriv_vars.index('Omega_i')])\n",
        "  grads['Omega_i'] = grads['rho_i'] * drho_i_dOmega_i(\n",
        "      indep_tensor[:, indep_vars.index('Vth_perp_Ion')], \n",
        "      deriv_tensor[:, deriv_vars.index('Omega_i')])\n",
        "\n",
        "  # step 5: B and its components\n",
        "  grads['Bmag_avg'] = grads['Omega_i'] * dOmega_i_dB()\n",
        "  grads['Bx'] = grads['Bmag_avg'] * dB_i_dBx(\n",
        "      indep_tensor[:, indep_vars.index('Bx')],\n",
        "      indep_tensor[:, indep_vars.index('By')],\n",
        "      indep_tensor[:, indep_vars.index('Bz')])\n",
        "  grads['By'] = grads['Bmag_avg'] * dB_i_dBy(\n",
        "      indep_tensor[:, indep_vars.index('Bx')],\n",
        "      indep_tensor[:, indep_vars.index('By')],\n",
        "      indep_tensor[:, indep_vars.index('Bz')])\n",
        "  grads['Bz'] = grads['Bmag_avg'] * dB_i_dBz(\n",
        "      indep_tensor[:, indep_vars.index('Bx')],\n",
        "      indep_tensor[:, indep_vars.index('By')],\n",
        "      indep_tensor[:, indep_vars.index('Bz')])   \n",
        "  return grads\n",
        "\n",
        "# Execute\n",
        "grads = derive_from_tensors(indep_vars, deriv_vars,\n",
        "                            indep_set[:][0], deriv_set[:][0])"
      ],
      "metadata": {
        "id": "p6lNb-6Dafae"
      },
      "execution_count": null,
      "outputs": []
    },
    {
      "cell_type": "markdown",
      "source": [
        "## 5.2 Neural network gradients"
      ],
      "metadata": {
        "id": "WQYoBCbe_Qsf"
      }
    },
    {
      "cell_type": "code",
      "source": [
        "m_deriv = m3_deriv['(16, 8, 4) no drop']\n",
        "m_deriv['result'][2][:, 14]"
      ],
      "metadata": {
        "id": "oC0mpdDm_k-2"
      },
      "execution_count": null,
      "outputs": []
    },
    {
      "cell_type": "code",
      "source": [
        "indep_infl = ('Bmag_avg', 'Bx', 'By', 'Bz', 'VSW', 'Vth_perp_Ion', \n",
        "              'Ne', 'Te', 'Ti')\n",
        "plt.subplots()\n",
        "plt.suptitle('Derivative of predicted $k_{brk}$ with respect to' +\n",
        "             ' independent variables')\n",
        "for i, var in enumerate(indep_infl):\n",
        "  col = indep_vars.index(var)\n",
        "  plt.subplot(3, 3, i+1)\n",
        "  x_axis = torch.arange(25)[10:]\n",
        "  plt.plot(x_axis, m3['(16, 8, 4) drop 25%']['result'][2][10:, col])\n",
        "  plt.axhline(grads[var].mean(), color='r', linestyle='--')\n",
        "  plt.xlabel('Epoch')\n",
        "  plt.title(var)\n",
        "plt.tight_layout(rect=[0, 0.05, 1, 0.96])"
      ],
      "metadata": {
        "id": "KWSzN7aNx-gN"
      },
      "execution_count": null,
      "outputs": []
    },
    {
      "cell_type": "code",
      "source": [
        "deriv_vars[13], indep_vars[3]"
      ],
      "metadata": {
        "id": "hm5qbMElxew1"
      },
      "execution_count": null,
      "outputs": []
    },
    {
      "cell_type": "code",
      "source": [
        "m3_deriv['(16, 8, 4) drop 25%']['result'][2][:, 13], grads['Lperp']"
      ],
      "metadata": {
        "id": "1oxKbof8wPov"
      },
      "execution_count": null,
      "outputs": []
    },
    {
      "cell_type": "code",
      "source": [
        "deriv = dk_brk_dlambda_r(df['lambda_d']) * dlamda_r_dLperp(df['Lperp'],\n",
        "                                                           df['d_e'], df['rho_s'])\n",
        "plt.plot(df['k_brk'], deriv, '.')"
      ],
      "metadata": {
        "id": "-vuKkCVFuD2C"
      },
      "execution_count": null,
      "outputs": []
    },
    {
      "cell_type": "markdown",
      "source": [
        "# Appendix\n",
        "\n",
        "Simple experiments with key functionality.\n",
        "\n",
        "* https://pytorch.org/docs/stable/generated/torch.Tensor.backward.html\n",
        "* https://pytorch.org/docs/stable/generated/torch.autograd.grad.html"
      ],
      "metadata": {
        "id": "8ynAqZOtuaRv"
      }
    },
    {
      "cell_type": "code",
      "source": [
        "i0 = torch.tensor([2., 4.], requires_grad=True)\n",
        "i1 = torch.tensor([3., 5.], requires_grad=True)\n",
        "z = 2.0*i0 + 3.0*i1 # dz_di0 = 2, dz_di1 = 3\n",
        "y = z**2 # dy_dz = 2z\n",
        "\n",
        "print('z:', z.detach(), '\\ty:', y.detach())\n",
        "print('dy/dz:', torch.autograd.grad(y, z, torch.ones(z.shape)))\n",
        "print('dz/di0:', torch.autograd.grad(z, i0, torch.ones(i0.shape)))\n",
        "print('dz/di1:', torch.autograd.grad(z, i1, torch.ones(i1.shape)))"
      ],
      "metadata": {
        "id": "guxakGhFhKSJ"
      },
      "execution_count": null,
      "outputs": []
    },
    {
      "cell_type": "markdown",
      "source": [
        "PyTorch's `jacobian` function\n",
        "\n",
        "* https://www.geeksforgeeks.org/jacobian-matrix-in-pytorch/"
      ],
      "metadata": {
        "id": "Q15K8VTjZy8r"
      }
    },
    {
      "cell_type": "code",
      "source": [
        "def f(x1, x2, x3):\n",
        "  # Jacobian is [1, 1, 0], [x3, 0, x1], [0, 3*x2, 0]\n",
        "  return torch.stack((x1 + x2, x3*x1, x2**3))\n",
        "\n",
        "def f2(x1, x2, x3):\n",
        "  return x1 + x2 + x3\n",
        " \n",
        "# Defining input tensors\n",
        "x1 = torch.tensor(3.0)\n",
        "x2 = torch.tensor(4.0)\n",
        "x3 = torch.tensor(5.0)\n",
        " \n",
        "# Printing the Jacobian\n",
        "print(torch.autograd.functional.jacobian(f, (x1, x2, x3)))\n",
        "print(torch.autograd.functional.jacobian(f2, (x1, x2, x3)))"
      ],
      "metadata": {
        "id": "_jnLTTyLZnDD"
      },
      "execution_count": null,
      "outputs": []
    },
    {
      "cell_type": "markdown",
      "source": [
        "Test gradient methods with a simple neural network. Referenced Dive into Deep Learning:\n",
        "\n",
        "* https://d2l.ai/chapter_linear-networks/linear-regression-concise.html\n",
        "* https://d2l.ai/_modules/d2l/mxnet.html#synthetic_data"
      ],
      "metadata": {
        "id": "VnM3Cn_fSfe4"
      }
    }
  ],
  "metadata": {
    "interpreter": {
      "hash": "b8488343e509b415c98a857491a9b4c90395f9a45992da0bb6102fdf120e22ce"
    },
    "kernelspec": {
      "name": "python3",
      "display_name": "Python 3.9.7 32-bit"
    },
    "language_info": {
      "codemirror_mode": {
        "name": "ipython",
        "version": 3
      },
      "file_extension": ".py",
      "mimetype": "text/x-python",
      "name": "python",
      "nbconvert_exporter": "python",
      "pygments_lexer": "ipython3",
      "version": "3.9.7"
    },
    "orig_nbformat": 4,
    "colab": {
      "name": "hw2.ipynb",
      "provenance": [],
      "collapsed_sections": [
        "B96g7uNzWVDA",
        "dtEVVFjzWVDH",
        "lLSfOYdvz4em",
        "qGzBeiMQNDM4",
        "qqSZtAzZrh3c",
        "DXphxZcC-ESJ",
        "YEBZlqckWVDK",
        "sbULd0e3iiEV"
      ]
    }
  },
  "nbformat": 4,
  "nbformat_minor": 0
}