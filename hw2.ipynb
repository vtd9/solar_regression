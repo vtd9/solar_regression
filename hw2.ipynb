{
  "cells": [
    {
      "cell_type": "markdown",
      "metadata": {
        "id": "view-in-github",
        "colab_type": "text"
      },
      "source": [
        "<a href=\"https://colab.research.google.com/github/vtd9/space_regression/blob/indep_to_dep/hw2.ipynb\" target=\"_parent\"><img src=\"https://colab.research.google.com/assets/colab-badge.svg\" alt=\"Open In Colab\"/></a>"
      ]
    },
    {
      "cell_type": "markdown",
      "source": [
        "# HW 2\n",
        "\n",
        "Due 3/24/22"
      ],
      "metadata": {
        "id": "qpE07xUCWVC1"
      }
    },
    {
      "cell_type": "code",
      "execution_count": null,
      "source": [
        "# Import dependencies\n",
        "import numpy as np\n",
        "import pandas as pd\n",
        "import matplotlib.pyplot as plt\n",
        "import torch\n",
        "from torch import nn\n",
        "import torch.utils.data as Data"
      ],
      "outputs": [],
      "metadata": {
        "id": "G_of0XoVWVC6"
      }
    },
    {
      "cell_type": "code",
      "execution_count": null,
      "source": [
        "# Set plot parameters for entire notebook\n",
        "plt.rcParams['figure.figsize'] = (9, 6)\n",
        "plt.rcParams['figure.dpi'] = 80\n",
        "plt.rcParams['font.size'] = 10"
      ],
      "outputs": [],
      "metadata": {
        "id": "5tmHwu_6WVC8"
      }
    },
    {
      "cell_type": "markdown",
      "source": [
        "## 1.1 Data preprocessing\n",
        "\n",
        "The CSV file should be in the same directory as this notebook. Otherwise, update the file_name path.\n",
        "\n",
        "References:\n",
        "* https://pytorch.org/tutorials/beginner/basics/data_tutorial.html"
      ],
      "metadata": {
        "id": "PSJLLPEQWVC9"
      }
    },
    {
      "cell_type": "markdown",
      "source": [
        "### 1.1.1 Read CSV and define variable categories"
      ],
      "metadata": {
        "id": "AtpxUic8WVC-"
      }
    },
    {
      "cell_type": "code",
      "execution_count": null,
      "source": [
        "file_name = './Untitled spreadsheet - Terres_Li_Sample_Data_Set.csv'\n",
        "df = pd.read_csv(file_name)"
      ],
      "outputs": [],
      "metadata": {
        "id": "E0e3O0fPWVC-"
      }
    },
    {
      "cell_type": "code",
      "execution_count": null,
      "source": [
        "# Independent variables\n",
        "indep_vars = ['Bx', 'By', 'Bz', 'Bmag_avg', 'Ni_avg', 'Vx', 'Vy', 'Vz', 'VSW', \n",
        "'Vth_mag_Ion', 'Vth_para_Ion', 'Vth_perp_Ion', 'Ne', 'Ue', 'Te', 'Ti', 'Ti_para', \n",
        "'Ti_perp']\n",
        "\n",
        "# Derived variables: from independent variables using formulas\n",
        "deriv_vars = ['VA', 'Beta', 'Beta_para', 'Beta_perp', 'Omega_i', 'omega_pi', \n",
        "'omega_pe', 'rho_i', 'rho_s', 'rho_c', 'd_i', 'd_e', 'sigma_i', 'Lperp', 'lambda_d']\n",
        "\n",
        "# Dependent variable: target\n",
        "dep_var = ['k_brk']\n",
        "\n",
        "# Check that the number of variables in each category are as expected\n",
        "print('Independent: {}, derived: {}, dependent: {}'.format(\n",
        "    len(indep_vars), len(deriv_vars), len(dep_var)))\n",
        "\n",
        "# Convert Pandas dataframes to PyTorch tensors\n",
        "indep = torch.tensor(df[indep_vars].values)\n",
        "deriv = torch.tensor(df[deriv_vars].values)\n",
        "dep = torch.tensor(df[dep_var].values)"
      ],
      "outputs": [
        {
          "output_type": "stream",
          "name": "stdout",
          "text": [
            "Independent: 18, derived: 15, dependent: 1\n"
          ]
        }
      ],
      "metadata": {
        "colab": {
          "base_uri": "https://localhost:8080/"
        },
        "id": "5LfBNMliWVC_",
        "outputId": "8f05b0ca-c99d-4cc9-e886-9a944641f1aa"
      }
    },
    {
      "cell_type": "markdown",
      "source": [
        "### 1.1.2 Visualize the input data"
      ],
      "metadata": {
        "id": "B96g7uNzWVDA"
      }
    },
    {
      "cell_type": "code",
      "execution_count": null,
      "source": [
        "# Visualize the input data\n",
        "def plot_many(xs, y, xs_names, num_cols=6, title='', size=(8, 7), fontsize=8):\n",
        "    num_plots = len(xs_names)\n",
        "    num_rows = int(num_plots / num_cols) + 1\n",
        "    plt.subplots(figsize=size)\n",
        "    plt.suptitle(title, fontsize=fontsize*1.5)\n",
        "\n",
        "    # For each variable in x\n",
        "    for i in range(num_plots):\n",
        "        plt.subplot(num_rows, num_cols, i + 1)\n",
        "        plt.plot(xs[:, i], y, '.', alpha=0.5)\n",
        "        plt.title(xs_names[i], fontsize=fontsize*1.2, y=1.1)\n",
        "        plt.ticklabel_format(style='sci', scilimits=(-3, 4), axis='x')\n",
        "\n",
        "    plt.tight_layout()"
      ],
      "outputs": [],
      "metadata": {
        "id": "4XYqp89gWVDB"
      }
    },
    {
      "cell_type": "code",
      "execution_count": null,
      "source": [
        "#plot_many(indep, dep[:, 0], indep_vars, title='Raw data:\\nIndependent variables vs. dependent variable (k_brk)')"
      ],
      "outputs": [],
      "metadata": {
        "id": "4pOZaXaJWVDC"
      }
    },
    {
      "cell_type": "code",
      "execution_count": null,
      "source": [
        "#plot_many(deriv, dep[:, 0], deriv_vars, title='Raw data:\\nDerived variables vs. dependent variable (k_brk)')"
      ],
      "outputs": [],
      "metadata": {
        "id": "MnBFbc5AWVDD"
      }
    },
    {
      "cell_type": "markdown",
      "source": [
        "### 1.1.3 Prepare for feeding into network"
      ],
      "metadata": {
        "id": "Qyob8GKyWVDD"
      }
    },
    {
      "cell_type": "code",
      "execution_count": null,
      "source": [
        "# Normalize the input data\n",
        "indep = torch.nn.functional.normalize(indep, dim=0)\n",
        "deriv = torch.nn.functional.normalize(deriv, dim=0)\n",
        "\n",
        "# Create datasets\n",
        "indep_dep = Data.TensorDataset(indep, dep)\n",
        "deriv_dep = Data.TensorDataset(deriv, dep)\n",
        "\n",
        "# Decide on training, validation, and testing splits\n",
        "train_size = int(0.8 * len(df))\n",
        "valid_size = int(0.1 * len(df))\n",
        "test_size = len(df) - (train_size + valid_size)\n",
        "splits = [train_size, valid_size, test_size]\n",
        "\n",
        "print('Training, validation, testing:', splits)\n",
        "\n",
        "# Split the data for both indep-dep pairs & derived-dep pairs\n",
        "train_indep, valid_indep, test_indep = Data.random_split(indep_dep, splits)\n",
        "train_deriv, valid_deriv, test_deriv = Data.random_split(deriv_dep, splits)"
      ],
      "outputs": [
        {
          "output_type": "stream",
          "name": "stdout",
          "text": [
            "Training, validation, testing: [5626, 703, 704]\n"
          ]
        }
      ],
      "metadata": {
        "colab": {
          "base_uri": "https://localhost:8080/"
        },
        "id": "v0SQUiy_WVDE",
        "outputId": "04359328-e25a-4a4e-fd4c-83a4f0f8151d"
      }
    },
    {
      "cell_type": "code",
      "execution_count": null,
      "source": [
        "# Define dataloaders\n",
        "batch_size = 64\n",
        "train_loader_indep = Data.DataLoader(\n",
        "    dataset=train_indep, batch_size=batch_size, shuffle=True, num_workers=2)\n",
        "valid_loader_indep = Data.DataLoader(\n",
        "    dataset=valid_indep, batch_size=batch_size, shuffle=True, num_workers=2)\n",
        "test_loader_indep = Data.DataLoader(\n",
        "    dataset=test_indep, batch_size=batch_size, shuffle=True, num_workers=2)\n",
        "\n",
        "train_loader_deriv= Data.DataLoader(\n",
        "    dataset=train_indep, batch_size=batch_size, shuffle=True, num_workers=2)\n",
        "valid_loader_deriv = Data.DataLoader(\n",
        "    dataset=valid_indep, batch_size=batch_size, shuffle=True, num_workers=2)\n",
        "test_loader_deriv = Data.DataLoader(\n",
        "    dataset=test_deriv, batch_size=batch_size, shuffle=True, num_workers=2)"
      ],
      "outputs": [],
      "metadata": {
        "id": "bgpETXYQWVDF"
      }
    },
    {
      "cell_type": "markdown",
      "source": [
        "## 1.2 Define classes and functions\n",
        "\n",
        "References:\n",
        "* https://pytorch.org/tutorials/beginner/basics/buildmodel_tutorial.html\n",
        "* https://pytorch.org/tutorials/beginner/basics/optimization_tutorial.html"
      ],
      "metadata": {
        "id": "GDQw48LgWVDF"
      }
    },
    {
      "cell_type": "markdown",
      "source": [
        "### 1.2.1 Network class\n",
        "\n",
        "General neural network template to easily create models."
      ],
      "metadata": {
        "id": "8WtzaEKMWVDG"
      }
    },
    {
      "cell_type": "code",
      "execution_count": null,
      "source": [
        "class Net(nn.Module): \n",
        "    def __init__(self, num_in, hiddens, num_out,\n",
        "        batch_norm=True, p_dropout=0.2):\n",
        "\n",
        "        super(Net, self).__init__()\n",
        "        layers = []\n",
        "        \n",
        "        # Define hidden layer(s)\n",
        "        hiddens_list = [num_in, ] + list(hiddens)\n",
        "        for i, hidden in enumerate(hiddens_list[:-1]):\n",
        "            curr_hidden = [nn.Linear(hidden, hiddens_list[i+1]), nn.ReLU()]\n",
        "        \n",
        "            # If set, add batch normalization\n",
        "            if batch_norm:\n",
        "                curr_hidden.append(nn.BatchNorm1d(hiddens_list[i+1]))\n",
        "            \n",
        "            # If set, add dropout\n",
        "            if p_dropout > 0:\n",
        "                curr_hidden.append(nn.Dropout(p_dropout))\n",
        "\n",
        "            layers += curr_hidden\n",
        "\n",
        "        # Define output layer\n",
        "        layers.append(nn.Linear(hiddens[-1], num_out))\n",
        "\n",
        "        # Define entire stack\n",
        "        self.stack = nn.Sequential(*layers)\n",
        "        \n",
        "    def forward(self, x):\n",
        "        logits = self.stack(x)\n",
        "        return logits\n",
        "\n",
        "# Initialize parameters\n",
        "def init_parameters(m):\n",
        "    if isinstance(m, nn.Linear):\n",
        "        # weights: Kaiming initialization\n",
        "        nn.init.kaiming_normal_(m.weight)\n",
        "\n",
        "        # biases: set to 0, as discussed in class\n",
        "        m.bias.data.fill_(0.0) # Set bias to 0"
      ],
      "outputs": [],
      "metadata": {
        "id": "lITn3aY5WVDG"
      }
    },
    {
      "cell_type": "markdown",
      "source": [
        "### 1.2.2 Functions for training and testing\n",
        "\n",
        "Train & test functions for one loop through the datasets (aka one epoch).\n",
        "\n",
        "Epochs functions to loop over many epochs."
      ],
      "metadata": {
        "id": "dtEVVFjzWVDH"
      }
    },
    {
      "cell_type": "code",
      "execution_count": null,
      "source": [
        "def train_loop(loader, model, loss_fun, optimizer):\n",
        "  '''\n",
        "  Train a model for one epoch - i.e., one pass through the training data set.\n",
        "\n",
        "  '''\n",
        "  train_loss = 0.0\n",
        "\n",
        "  # For each batch\n",
        "  for X, y in loader:\n",
        "      prediction = model(X) # forward pass\n",
        "      loss = loss_fun(prediction, y) # compute loss\n",
        "      train_loss += loss.item() # assume default reduction 'mean' over batch\n",
        "      optimizer.zero_grad() # clear gradients for this loop\n",
        "      loss.backward() # compute gradients\n",
        "      optimizer.step() # apply gradients\n",
        "\n",
        "  # Average loss in the epoch loop\n",
        "  return train_loss/len(loader)\n",
        "    \n",
        "def test_loop(loader, model, loss_fun, return_y=False):\n",
        "  '''\n",
        "  Test a model through one pass through a validation/test data set.\n",
        "\n",
        "  '''\n",
        "  test_loss = 0.0\n",
        "\n",
        "  # No backprop during validation/testing\n",
        "  with torch.no_grad():\n",
        "      for X, y in loader:\n",
        "          prediction = model(X)\n",
        "          test_loss += loss_fun(prediction, y).item()\n",
        "\n",
        "  # If requested, return last prediction & the corresponding labels, too\n",
        "  if return_y: \n",
        "    return prediction, y, test_loss/len(loader)\n",
        "  else: # Else, return average loss in the loop\n",
        "    return test_loss/len(loader)\n",
        "\n",
        "\n",
        "def train_epochs(train_loader, valid_loader, model, loss_fun, optimizer, \n",
        "    epochs, verbose=False):\n",
        "    '''\n",
        "    Train and validate a model over multiple epochs.\n",
        "\n",
        "    '''\n",
        "    train_losses = np.empty(epochs)\n",
        "    test_losses = np.empty(epochs)\n",
        "\n",
        "    # For each epoch\n",
        "    for epoch in range(epochs):\n",
        "        train_losses[epoch] = train_loop(train_loader, model.double(), \n",
        "            loss_fun, optimizer)\n",
        "        test_losses[epoch] = test_loop(valid_loader, model.double(), loss_fun)\n",
        "    \n",
        "        if verbose:\n",
        "            print('epoch: {}\\ttraining loss: {:.3e}'\n",
        "            '\\tvalidation loss: {:.3e}'.format(\n",
        "                epoch, train_losses[epoch], test_losses[epoch]))\n",
        "    \n",
        "    return train_losses, test_losses"
      ],
      "outputs": [],
      "metadata": {
        "id": "KsFeALBOWVDH"
      }
    },
    {
      "cell_type": "code",
      "source": [
        "def plot_mult_models(models, xlabel='Epoch', ylabel='Mean squared error', \n",
        "                     yscale='log', title='', train_index=0, valid_index=1,\n",
        "                     result_key='result', train_append=' training', \n",
        "                     valid_append=' validation', train_style='-', \n",
        "                     valid_style='--', colors=('b', 'g', 'r', 'c', 'm', 'k')):\n",
        "  '''\n",
        "  Plot multiple models on the same graph, each with its own training and \n",
        "  validation results.\n",
        "  \n",
        "  '''\n",
        "  for (key, value), color in zip(models.items(), colors):\n",
        "      # Plot training performance\n",
        "      plt.plot(np.arange(epochs), \n",
        "          value[result_key][train_index], color+train_style, label=key+train_append)\n",
        "      \n",
        "      # Plot validation performance\n",
        "      plt.plot(np.arange(epochs), \n",
        "          value[result_key][valid_index], color+valid_style, label=key+valid_append)\n",
        "  plt.title(title)\n",
        "  plt.yscale(yscale)\n",
        "  plt.xlabel(xlabel)\n",
        "  plt.ylabel(ylabel)\n",
        "  plt.legend()"
      ],
      "metadata": {
        "id": "PRHQ47rUeRvv"
      },
      "execution_count": null,
      "outputs": []
    },
    {
      "cell_type": "markdown",
      "source": [
        "## 1.3 Independent &rarr; dependent variables\n",
        "\n",
        "Create a model to relate the independent variables to the dependent variable."
      ],
      "metadata": {
        "id": "GMjcYe57WVDI"
      }
    },
    {
      "cell_type": "code",
      "execution_count": null,
      "source": [
        "# Standard mean squared error loss function\n",
        "mse = nn.MSELoss(reduction='mean') # default reduction\n",
        "\n",
        "# Create container to store models, optimizers, & results in\n",
        "models = {}"
      ],
      "outputs": [],
      "metadata": {
        "id": "phwJnX4VWVDI"
      }
    },
    {
      "cell_type": "markdown",
      "source": [
        "### 1.3.1. Models with 3 hidden layers\n",
        "\n",
        "`model16`: 16, 8, 4 neurons in hidden layers\n",
        "* batch normalization (using default value of `affine=True`, so learnable parameters)\n",
        "* dropout (`p=0.2`)\n",
        "* standard gradient descent (SGD) with learning rate `lr=0.1` and `momentum=0.9`. L2 regularization with lambda `weight_decay=1e-5`\n",
        "\n",
        "`model8`: 8, 4, 2 neurons in hidden layers\n",
        "*  Otherwise, same as `model16`\n",
        "\n",
        "`model16_no_norm`: same as `model16`'s neuron density\n",
        "* no batch normalization\n",
        "* no dropout\n",
        "* standard gradient descent (SGD) with learning rate `lr=0.1` and `momentum=0.9`. No regularizer added to loss.\n",
        "\n",
        "`model8_no_norm`: same as `model8`'s neuron density\n",
        "* Otherwise, same as `model16_no_norm`"
      ],
      "metadata": {
        "id": "EVVzvsIlWVDI"
      }
    },
    {
      "cell_type": "code",
      "execution_count": null,
      "source": [
        "model16 = Net(len(indep_vars), (16, 8, 4), 1)\n",
        "model16.apply(init_parameters)\n",
        "models['model16'] = {\n",
        "    'model': model16,\n",
        "    'opt': torch.optim.SGD(model16.parameters(), lr=0.1,\n",
        "    momentum=0.9, weight_decay=1e-5)}\n",
        "\n",
        "model8 = Net(len(indep_vars), (8, 4, 2), 1)\n",
        "model8.apply(init_parameters)\n",
        "models['model8'] = {\n",
        "    'model': model8,\n",
        "    'opt': torch.optim.SGD(model8.parameters(), lr=0.1,\n",
        "    momentum=0.9, weight_decay=1e-5)}\n",
        "\n",
        "model16_no_norm = Net(len(indep_vars), (16, 8, 4), 1, batch_norm=False, p_dropout=0)\n",
        "model16_no_norm .apply(init_parameters)\n",
        "models['model16_no_norm'] = {\n",
        "    'model': model16_no_norm, \n",
        "    'opt': torch.optim.SGD(model16_no_norm.parameters(), lr=0.1, momentum=0.9)}\n",
        "\n",
        "model8_no_norm = Net(len(indep_vars), (8, 4, 2), 1, batch_norm=False, p_dropout=0)\n",
        "model8_no_norm .apply(init_parameters)\n",
        "models['model8_no_norm'] = {\n",
        "    'model': model8_no_norm,\n",
        "    'opt': torch.optim.SGD(model8_no_norm.parameters(), lr=0.1, momentum=0.9)}"
      ],
      "outputs": [],
      "metadata": {
        "id": "qzA4PPb0WVDJ"
      }
    },
    {
      "cell_type": "code",
      "execution_count": null,
      "source": [
        "epochs = 25\n",
        "for key, value in models.items():\n",
        "    model = value['model']\n",
        "    opt = value['opt']\n",
        "    models[key]['result'] = train_epochs(\n",
        "        train_loader_indep, valid_loader_indep, model, \n",
        "        loss_fun=mse, optimizer=opt, epochs=epochs)"
      ],
      "outputs": [],
      "metadata": {
        "id": "vyCo6Y6hWVDJ"
      }
    },
    {
      "cell_type": "code",
      "source": [
        "# Plot\n",
        "plot_mult_models(models)"
      ],
      "metadata": {
        "colab": {
          "base_uri": "https://localhost:8080/",
          "height": 427
        },
        "id": "zdg18WwziBJ4",
        "outputId": "45aae110-4178-4fd7-9ebb-4d914bd4058e"
      },
      "execution_count": null,
      "outputs": [
        {
          "output_type": "display_data",
          "data": {
            "text/plain": [
              "<Figure size 720x480 with 1 Axes>"
            ],
            "image/png": "[encoded data removed]"
          },
          "metadata": {
            "needs_background": "light"
          }
        }
      ]
    },
    {
      "cell_type": "markdown",
      "source": [
        "## 1.4 Derived &rarr; dependent variables"
      ],
      "metadata": {
        "id": "YEBZlqckWVDK"
      }
    }
  ],
  "metadata": {
    "interpreter": {
      "hash": "b8488343e509b415c98a857491a9b4c90395f9a45992da0bb6102fdf120e22ce"
    },
    "kernelspec": {
      "name": "python3",
      "display_name": "Python 3.9.7 32-bit"
    },
    "language_info": {
      "codemirror_mode": {
        "name": "ipython",
        "version": 3
      },
      "file_extension": ".py",
      "mimetype": "text/x-python",
      "name": "python",
      "nbconvert_exporter": "python",
      "pygments_lexer": "ipython3",
      "version": "3.9.7"
    },
    "orig_nbformat": 4,
    "colab": {
      "name": "hw2.ipynb",
      "provenance": [],
      "collapsed_sections": [
        "B96g7uNzWVDA"
      ],
      "include_colab_link": true
    }
  },
  "nbformat": 4,
  "nbformat_minor": 0
}